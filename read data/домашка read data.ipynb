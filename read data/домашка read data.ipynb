{
 "cells": [
  {
   "cell_type": "markdown",
   "metadata": {},
   "source": [
    "# Чтение и запись данных. Часть 1\n",
    "\n",
    "## 1. Чтение текстовых файлов, файловые дескрипторы"
   ]
  },
  {
   "cell_type": "markdown",
   "metadata": {},
   "source": [
    "### 1.1\n",
    "\n",
    "**Простая задача** сформируйте объект класса dict, где ключ - это IP адрес, а значение - количество раз, которые этот ip встретился в тесте.\n",
    "\n",
    "*Результат выполнения*\n",
    "<pre>\n",
    "{'192.168.101.4': 1, '192.168.102.3': 2, '192.168.7.46': 1}\n",
    "</pre>"
   ]
  },
  {
   "cell_type": "code",
   "execution_count": 1,
   "metadata": {},
   "outputs": [
    {
     "name": "stdout",
     "output_type": "stream",
     "text": [
      "{'192.168.101.4': 1, '192.168.102.3': 2, '192.168.7.46': 1}\n"
     ]
    }
   ],
   "source": [
    "file_path = './data/uwsgi.log'\n",
    "ip_counter = dict()\n",
    "i = 1\n",
    "with open(file_path, 'r', encoding='utf8') as f:\n",
    "    for row in f:\n",
    "        if len(row)>1:\n",
    "            if row.split(' ')[0] in ip_counter:\n",
    "                ip_counter[row.split(' ')[0]]+=1\n",
    "            else:\n",
    "                ip_counter[row.split(' ')[0]] = 1\n",
    "            i+=1\n",
    "print(ip_counter)"
   ]
  },
  {
   "cell_type": "markdown",
   "metadata": {},
   "source": [
    "### 1.2\n",
    "**Задача среднего уровня** Распечатайте список URL, к которым происходил доступ. GET или POST параметры печатать не нужно.\n",
    "\n",
    "*Результат выполнения*\n",
    "<pre>\n",
    "/movie/is_personalizable/\n",
    "/logger/content/time/\n",
    "/movie/collection/items/recommendations/\n",
    "/movie/recommendations/\n",
    "</pre>"
   ]
  },
  {
   "cell_type": "code",
   "execution_count": 2,
   "metadata": {},
   "outputs": [
    {
     "name": "stdout",
     "output_type": "stream",
     "text": [
      "/movie/is_personalizable/\n",
      "/logger/content/time\n",
      "/movie/collection/items/recommendations/\n",
      "/movie/recommendations/\n"
     ]
    }
   ],
   "source": [
    "file_path = './data/uwsgi.log'\n",
    "\n",
    "with open(file_path, 'r', encoding='utf8') as f:\n",
    "    for row in f:\n",
    "        if len(row)>1:\n",
    "            index = row.split(' ')[6].find('?')\n",
    "            print(row.split(' ')[6][:index])\n",
    "        "
   ]
  },
  {
   "cell_type": "markdown",
   "metadata": {},
   "source": [
    "### 1.3\n",
    "**Задача высокого уровня** Сформируйте объект класса dict, где ключ - это URL, а значение - это массив объектов python `datetime.datetime`: когда происходили запросы к этому URL.\n",
    "\n",
    "*Результат выполнения*\n",
    "<pre>\n",
    "{\n",
    "    '/movie/is_personalizable/': [datetime.datetime(2019, 2, 5, 21, 36, 7)],\n",
    "    '/logger/content/time/': [datetime.datetime(2019, 2, 5, 21, 36, 7)],\n",
    "    '/movie/collection/items/recommendations/': [datetime.datetime(2019, 2, 5, 21, 36, 7)],\n",
    "    '/movie/recommendations/': [datetime.datetime(2019, 2, 5, 21, 36, 7)]\n",
    "}\n",
    "</pre>"
   ]
  },
  {
   "cell_type": "code",
   "execution_count": 3,
   "metadata": {},
   "outputs": [
    {
     "name": "stdout",
     "output_type": "stream",
     "text": [
      "{'/movie/is_personalizable/': [datetime.datetime(2019, 2, 5, 21, 36, 7)], '/logger/content/time': [datetime.datetime(2019, 2, 5, 21, 36, 7)], '/movie/collection/items/recommendations/': [datetime.datetime(2019, 2, 5, 21, 36, 7)], '/movie/recommendations/': [datetime.datetime(2019, 2, 5, 21, 36, 7)]}\n"
     ]
    }
   ],
   "source": [
    "from datetime import datetime\n",
    "file_path = './data/uwsgi.log'\n",
    "\n",
    "access_dournal = dict()\n",
    "\n",
    "ip_counter = dict()\n",
    "\n",
    "with open(file_path, 'r', encoding='utf8') as f:\n",
    "    for row in f:\n",
    "        if len(row)>1:\n",
    "            index = row.split(' ')[6].find('?')          \n",
    "            datetime_str = row.split(' ')[3][1:]            \n",
    "            datetime_object = datetime.strptime(datetime_str, '%d/%b/%Y:%H:%M:%S')\n",
    "            access_dournal[row.split(' ')[6][:index]]=[datetime_object]\n",
    "            \n",
    "print(access_dournal)"
   ]
  },
  {
   "cell_type": "markdown",
   "metadata": {},
   "source": [
    "## 2. Чтение csv файлов: модуль python csv"
   ]
  },
  {
   "cell_type": "markdown",
   "metadata": {},
   "source": [
    "### 2.1\n",
    "**Простая задача** Сформируйте словарь, в котором ключ - название столбца, а значение - массив записей в этом столбце.\n",
    "\n",
    "*Результат выполнения*\n",
    "<pre>\n",
    "{\n",
    "    'Код': ['HYDRA-535', 'HYDRA-534', 'HYDRA-532', 'HYDRA-531', 'HYDRA-530', 'HYDRA-527', 'HYDRA-524', 'HYDRA-523', 'HYDRA-520', 'HYDRA-519', 'HYDRA-518', 'HYDRA-517', 'HYDRA-514', 'HYDRA-513', 'HYDRA-511', 'HYDRA-510', 'HYDRA-509', 'HYDRA-507', 'HYDRA-506'],\n",
    "    'Тема': ['Пробрасывать пользовательское распределение paid_types в ехидну', 'Гибридный рекомендатель с multi-channel feedback', 'Джоба в дженкинсе для расчёта динамики РВП', 'Интеграция Hydra с Gamora', 'Тестируем интеграцию с Jira', 'Поправить функцию _get_ui_rec_matrix', 'Оптимизировать матрицу ItemFactors', 'Сортировка ЦПБ', 'Закостылить параметр top', \"Сделать 'stable' конфигом по умолчанию в Гидре\", 'Неудобно тестировать запись в redis', 'Улучшить рекомендации (первая итерация)', 'Добавить логирование в скрипты hydra/bin', 'Поправить storage_backend', 'Перемешивание рекомендаций для старых пользователей', 'Поправить скрипты bpr и и оценщика', 'Динамические персональные рекомендации', 'Навести порядок в prepare_data_for_hydra', 'Техдолг по логике /collection/recommendations/'],\n",
    "    'Компонент': ['echidna', 'hydra', 'hydramatrices', 'hydramagrices', 'hydra', 'hydra', 'hydra', 'hydra', 'hydra', 'hydra', 'hydramatrices', 'hydra', 'hydramagrices', 'hydramatrices', 'hydra', 'hydra_utils', 'hydra', 'hydramagrices', 'hydra'],\n",
    "    'Затрачено в часах': ['1', '3', '2', '4', '2', '10', '2', '5', '2', '2', '1', '7', '5', '2', '5', '16', '10', '3', '24']\n",
    "}\n",
    "</pre>"
   ]
  },
  {
   "cell_type": "code",
   "execution_count": 4,
   "metadata": {},
   "outputs": [
    {
     "name": "stdout",
     "output_type": "stream",
     "text": [
      "{'Код': ['HYDRA-535', 'HYDRA-534', 'HYDRA-532', 'HYDRA-531', 'HYDRA-530', 'HYDRA-527', 'HYDRA-524', 'HYDRA-523', 'HYDRA-520', 'HYDRA-519', 'HYDRA-518', 'HYDRA-517', 'HYDRA-514', 'HYDRA-513', 'HYDRA-511', 'HYDRA-510', 'HYDRA-509', 'HYDRA-507', 'HYDRA-506'], 'Тема': ['Пробрасывать пользовательское распределение paid_types в ехидну', 'Гибридный рекомендатель с multi-channel feedback', 'Джоба в дженкинсе для расчёта динамики РВП', 'Интеграция Hydra с Gamora', 'Тестируем интеграцию с Jira', 'Поправить функцию _get_ui_rec_matrix', 'Оптимизировать матрицу ItemFactors', 'Сортировка ЦПБ', 'Закостылить параметр top', \"Сделать 'stable' конфигом по умолчанию в Гидре\", 'Неудобно тестировать запись в redis', 'Улучшить рекомендации (первая итерация)', 'Добавить логирование в скрипты hydra/bin', 'Поправить storage_backend', 'Перемешивание рекомендаций для старых пользователей', 'Поправить скрипты bpr и и оценщика', 'Динамические персональные рекомендации', 'Навести порядок в prepare_data_for_hydra', 'Техдолг по логике /collection/recommendations/'], 'Компонент': ['echidna', 'hydra', 'hydramatrices', 'hydramagrices', 'hydra', 'hydra', 'hydra', 'hydra', 'hydra', 'hydra', 'hydramatrices', 'hydra', 'hydramagrices', 'hydramatrices', 'hydra', 'hydra_utils', 'hydra', 'hydramagrices', 'hydra'], 'Затрачено в часах': ['1', '3', '2', '4', '2', '10', '2', '5', '2', '2', '1', '7', '5', '2', '5', '16', '10', '3', '24']}\n"
     ]
    }
   ],
   "source": [
    "import csv\n",
    "columns_dict = dict()\n",
    "file_path = './data/task.csv'\n",
    "\n",
    "\n",
    "with open(file_path, newline='', encoding='utf8') as csvfile:\n",
    "    reader = csv.DictReader(csvfile)\n",
    "    for col_name in reader.fieldnames:\n",
    "        columns_dict[col_name] = []\n",
    "            \n",
    "    for row in reader:\n",
    "        for col_name in reader.fieldnames:\n",
    "            columns_dict[col_name].append(row[col_name])\n",
    "               \n",
    "print(columns_dict)"
   ]
  },
  {
   "cell_type": "markdown",
   "metadata": {},
   "source": [
    "### 2.2\n",
    "**Задача среднего уровня** Посчитайте статистику по колонке \"Затрачено в часах\" (это человеко-часы, затраченные на задачу) – максимальное значение, минимальное значение, среднее значение. Воспользуйтесь словарём `columns_dict` из задания 2.1\n",
    "\n",
    "*Результат выполнения*\n",
    "<pre>\n",
    "min_val=1, max_val=24, mean_val=5.578947368421052\n",
    "\n",
    "</pre>"
   ]
  },
  {
   "cell_type": "code",
   "execution_count": 5,
   "metadata": {},
   "outputs": [
    {
     "name": "stdout",
     "output_type": "stream",
     "text": [
      "min_val=1, max_val=24, mean_val=5.578947368421052\n"
     ]
    }
   ],
   "source": [
    "#преобразуем колонку в числовой тип\n",
    "value = list(map(lambda x: int(x),columns_dict['Затрачено в часах']))\n",
    "\n",
    "min_val = min(value)\n",
    "max_val = max(value)\n",
    "mean_val = sum(value)/len(value)\n",
    "\n",
    "print(\"min_val={}, max_val={}, mean_val={}\".format(min_val, max_val, mean_val))"
   ]
  },
  {
   "cell_type": "markdown",
   "metadata": {},
   "source": [
    "### 2.3\n",
    "**Задача высокого уровня** Сколько человеко-часов было потрачено на задачи, в которых встречается слово \"рекомендации\" в любых формах, а сколько на остальные задачи (в процентах)?\n",
    "\n",
    "Подсказка - проверка на наличие нужного слова в тексте `txt` выглядит так:"
   ]
  },
  {
   "cell_type": "code",
   "execution_count": 3,
   "metadata": {},
   "outputs": [
    {
     "name": "stdout",
     "output_type": "stream",
     "text": [
      "True False\n"
     ]
    }
   ],
   "source": [
    "print('рек' in 'Я делаю рекомендательную систему', 'рек' in 'кек')"
   ]
  },
  {
   "cell_type": "markdown",
   "metadata": {},
   "source": [
    "*Результат выполнения*\n",
    "<pre>\n",
    "{'recs': 2, 'non_recs': 17}\n",
    "</pre>"
   ]
  },
  {
   "cell_type": "code",
   "execution_count": 6,
   "metadata": {},
   "outputs": [
    {
     "name": "stdout",
     "output_type": "stream",
     "text": [
      "{'recs': 23.58, 'non_recs': 76.42}\n"
     ]
    }
   ],
   "source": [
    "file_path = './data/task.csv'\n",
    "task_recs_counter = {'recs': 0, 'non_recs': 0}\n",
    "\n",
    "with open(file_path, newline='', encoding='utf8') as csvfile:\n",
    "    reader = csv.DictReader(csvfile)\n",
    "    for row in reader:\n",
    "        #Сколько человеко-часов было потрачено на задачи, в которых встречается слово \"рекомендации\" в любых формах\n",
    "        if 'рек' in row['Тема']:\n",
    "            task_recs_counter['recs'] += int(row['Затрачено в часах']) \n",
    "\n",
    "#общее количество часов потраченное на задачи\n",
    "sum_hours = sum(value)\n",
    "# перевод затраченного времени в проценты\n",
    "task_recs_counter['recs'] = round(100/sum_hours*task_recs_counter['recs'], 2)\n",
    "task_recs_counter['non_recs'] = 100 - task_recs_counter['recs']\n",
    "print(task_recs_counter)\n"
   ]
  },
  {
   "cell_type": "markdown",
   "metadata": {},
   "source": [
    "## 3. Чтение csv файлов: модуль pandas"
   ]
  },
  {
   "cell_type": "markdown",
   "metadata": {},
   "source": [
    "### 3.1\n",
    "\n",
    "**Простое задание** добавьте столбец `num_tasks`, где отражено количество задач, выполненное внутри каждого компонента. Колонка `mean_val` со средним значением поля 'Затрачено в часах' уже добавлена в качестве примера.\n",
    "\n",
    "Чтобы выполнить задание, поправьте словарь `aggregation_json`"
   ]
  },
  {
   "cell_type": "code",
   "execution_count": 7,
   "metadata": {},
   "outputs": [
    {
     "data": {
      "text/html": [
       "<div>\n",
       "<style scoped>\n",
       "    .dataframe tbody tr th:only-of-type {\n",
       "        vertical-align: middle;\n",
       "    }\n",
       "\n",
       "    .dataframe tbody tr th {\n",
       "        vertical-align: top;\n",
       "    }\n",
       "\n",
       "    .dataframe thead th {\n",
       "        text-align: right;\n",
       "    }\n",
       "</style>\n",
       "<table border=\"1\" class=\"dataframe\">\n",
       "  <thead>\n",
       "    <tr style=\"text-align: right;\">\n",
       "      <th></th>\n",
       "      <th>num_task</th>\n",
       "      <th>mean_value</th>\n",
       "    </tr>\n",
       "    <tr>\n",
       "      <th>Компонент</th>\n",
       "      <th></th>\n",
       "      <th></th>\n",
       "    </tr>\n",
       "  </thead>\n",
       "  <tbody>\n",
       "    <tr>\n",
       "      <td>echidna</td>\n",
       "      <td>1</td>\n",
       "      <td>1.000000</td>\n",
       "    </tr>\n",
       "    <tr>\n",
       "      <td>hydra</td>\n",
       "      <td>11</td>\n",
       "      <td>6.545455</td>\n",
       "    </tr>\n",
       "    <tr>\n",
       "      <td>hydra_utils</td>\n",
       "      <td>1</td>\n",
       "      <td>16.000000</td>\n",
       "    </tr>\n",
       "    <tr>\n",
       "      <td>hydramagrices</td>\n",
       "      <td>3</td>\n",
       "      <td>4.000000</td>\n",
       "    </tr>\n",
       "    <tr>\n",
       "      <td>hydramatrices</td>\n",
       "      <td>3</td>\n",
       "      <td>1.666667</td>\n",
       "    </tr>\n",
       "  </tbody>\n",
       "</table>\n",
       "</div>"
      ],
      "text/plain": [
       "               num_task  mean_value\n",
       "Компонент                          \n",
       "echidna               1    1.000000\n",
       "hydra                11    6.545455\n",
       "hydra_utils           1   16.000000\n",
       "hydramagrices         3    4.000000\n",
       "hydramatrices         3    1.666667"
      ]
     },
     "execution_count": 7,
     "metadata": {},
     "output_type": "execute_result"
    }
   ],
   "source": [
    "import numpy as np\n",
    "import pandas as pd\n",
    "\n",
    "file_path = './data/task.csv'\n",
    "\n",
    "df = pd.read_csv(file_path)\n",
    "\n",
    "#  у меня пандас более новой версии. Оттого такая агрегация не работает. Еще в самом уроке была ошибка, что \n",
    "# FutureWarning: using a dict with renaming is deprecated and will be removed in a future version\n",
    "# aggregation_json = {\n",
    "#  'Затрачено в часах': {\n",
    "#   'mean_val': np.mean}\n",
    "# }\n",
    "\n",
    "df1 = df.groupby(by=['Компонент'])['Затрачено в часах'].agg(['count','mean'])\n",
    "df1.columns = ['num_task','mean_value']\n",
    "df1"
   ]
  },
  {
   "cell_type": "markdown",
   "metadata": {},
   "source": [
    "### 3.2\n",
    "**Задание среднего уровня** Добавьте (в виде `list`) для каждого компонента набор задач, который был в этом компоненте выполнен (идентификаторы содержатся в поле \"Код\"). Для этого замените `.aggregate()` на `.apply(list)`\n",
    "\n",
    "Пример:"
   ]
  },
  {
   "cell_type": "code",
   "execution_count": 8,
   "metadata": {},
   "outputs": [
    {
     "name": "stdout",
     "output_type": "stream",
     "text": [
      "Исходный DataFrame:\n",
      "  key  val\n",
      "0   a    1\n",
      "1   a    2\n",
      "Применяем apply:\n"
     ]
    },
    {
     "data": {
      "text/plain": [
       "key\n",
       "a    [1, 2]\n",
       "Name: val, dtype: object"
      ]
     },
     "execution_count": 8,
     "metadata": {},
     "output_type": "execute_result"
    }
   ],
   "source": [
    "import pandas as pd\n",
    "\n",
    "print('Исходный DataFrame:')\n",
    "a = pd.DataFrame({'key':['a', 'a'], 'val':[1, 2]})\n",
    "print(a)\n",
    "print('Применяем apply:')\n",
    "a.groupby('key')['val'].apply(list)"
   ]
  },
  {
   "cell_type": "markdown",
   "metadata": {},
   "source": [
    "Результат выполнения\n",
    "\n",
    "<pre>\n",
    "Компонент\n",
    "echidna                                                [HYDRA-535]\n",
    "hydra            [HYDRA-534, HYDRA-530, HYDRA-527, HYDRA-524, H...\n",
    "hydra_utils                                            [HYDRA-510]\n",
    "hydramagrices                    [HYDRA-531, HYDRA-514, HYDRA-507]\n",
    "hydramatrices                    [HYDRA-532, HYDRA-518, HYDRA-513]\n",
    "</pre>"
   ]
  },
  {
   "cell_type": "code",
   "execution_count": 9,
   "metadata": {},
   "outputs": [
    {
     "data": {
      "text/plain": [
       "Компонент\n",
       "echidna                                                [HYDRA-535]\n",
       "hydra            [HYDRA-534, HYDRA-530, HYDRA-527, HYDRA-524, H...\n",
       "hydra_utils                                            [HYDRA-510]\n",
       "hydramagrices                    [HYDRA-531, HYDRA-514, HYDRA-507]\n",
       "hydramatrices                    [HYDRA-532, HYDRA-518, HYDRA-513]\n",
       "Name: Код, dtype: object"
      ]
     },
     "execution_count": 9,
     "metadata": {},
     "output_type": "execute_result"
    }
   ],
   "source": [
    "import pandas as pd\n",
    "\n",
    "\n",
    "df2 = df.groupby('Компонент')['Код'].apply(list)\n",
    "df2"
   ]
  },
  {
   "cell_type": "markdown",
   "metadata": {},
   "source": [
    "### 3.3\n",
    "**Задание высокого уровня** Составьте DataFrame с двумя колонками: среднее время на задачу и список задач `codes_list_df` внутри каждого \"Компонента\". Подсказка: подготовьте два датафрейма и используйте [функцию merge](https://pandas.pydata.org/pandas-docs/stable/reference/api/pandas.DataFrame.merge.html)"
   ]
  },
  {
   "cell_type": "code",
   "execution_count": 10,
   "metadata": {},
   "outputs": [
    {
     "data": {
      "text/html": [
       "<div>\n",
       "<style scoped>\n",
       "    .dataframe tbody tr th:only-of-type {\n",
       "        vertical-align: middle;\n",
       "    }\n",
       "\n",
       "    .dataframe tbody tr th {\n",
       "        vertical-align: top;\n",
       "    }\n",
       "\n",
       "    .dataframe thead th {\n",
       "        text-align: right;\n",
       "    }\n",
       "</style>\n",
       "<table border=\"1\" class=\"dataframe\">\n",
       "  <thead>\n",
       "    <tr style=\"text-align: right;\">\n",
       "      <th></th>\n",
       "      <th>mean_value</th>\n",
       "      <th>codes_list</th>\n",
       "    </tr>\n",
       "    <tr>\n",
       "      <th>Компонент</th>\n",
       "      <th></th>\n",
       "      <th></th>\n",
       "    </tr>\n",
       "  </thead>\n",
       "  <tbody>\n",
       "    <tr>\n",
       "      <td>echidna</td>\n",
       "      <td>1.000000</td>\n",
       "      <td>[HYDRA-535]</td>\n",
       "    </tr>\n",
       "    <tr>\n",
       "      <td>hydra</td>\n",
       "      <td>6.545455</td>\n",
       "      <td>[HYDRA-534, HYDRA-530, HYDRA-527, HYDRA-524, H...</td>\n",
       "    </tr>\n",
       "    <tr>\n",
       "      <td>hydra_utils</td>\n",
       "      <td>16.000000</td>\n",
       "      <td>[HYDRA-510]</td>\n",
       "    </tr>\n",
       "    <tr>\n",
       "      <td>hydramagrices</td>\n",
       "      <td>4.000000</td>\n",
       "      <td>[HYDRA-531, HYDRA-514, HYDRA-507]</td>\n",
       "    </tr>\n",
       "    <tr>\n",
       "      <td>hydramatrices</td>\n",
       "      <td>1.666667</td>\n",
       "      <td>[HYDRA-532, HYDRA-518, HYDRA-513]</td>\n",
       "    </tr>\n",
       "  </tbody>\n",
       "</table>\n",
       "</div>"
      ],
      "text/plain": [
       "               mean_value                                         codes_list\n",
       "Компонент                                                                   \n",
       "echidna          1.000000                                        [HYDRA-535]\n",
       "hydra            6.545455  [HYDRA-534, HYDRA-530, HYDRA-527, HYDRA-524, H...\n",
       "hydra_utils     16.000000                                        [HYDRA-510]\n",
       "hydramagrices    4.000000                  [HYDRA-531, HYDRA-514, HYDRA-507]\n",
       "hydramatrices    1.666667                  [HYDRA-532, HYDRA-518, HYDRA-513]"
      ]
     },
     "execution_count": 10,
     "metadata": {},
     "output_type": "execute_result"
    }
   ],
   "source": [
    "df1['codes_list'] = df2\n",
    "del df1['num_task']\n",
    "df1\n"
   ]
  },
  {
   "cell_type": "markdown",
   "metadata": {},
   "source": [
    "## 4.  Работа с данными формата HTML"
   ]
  },
  {
   "cell_type": "markdown",
   "metadata": {},
   "source": [
    "### 4.1\n",
    "**Задание простого уровня** Распечатайте список курсов по программированию от Skillbox."
   ]
  },
  {
   "cell_type": "code",
   "execution_count": 11,
   "metadata": {},
   "outputs": [
    {
     "name": "stdout",
     "output_type": "stream",
     "text": [
      "Профессия Java-разработчик\n",
      "Профессия Python-разработчик\n",
      "Профессия Data Scientist\n",
      "Профессия Веб-разработчик\n",
      "Профессия 1С-разработчик\n",
      "Профессия разработчик игр на Unity\n",
      "Профессия разработчик игр на Unreal Engine 4\n",
      "Профессия Мобильный разработчик\n",
      "Программист 1С-Битрикс\n",
      "Профессия Frontend-разработчик\n",
      "Профессия iOS-разработчик\n",
      "Профессия Android-разработчик\n",
      "Профессия Тестировщик\n",
      "Профессия PHP-разработчик\n",
      "Профессия C#-разработчик\n",
      "Веб-разработчик c 0 до PRO\n",
      "Frontend-разработчик\n",
      "PHP-разработчик c 0 до PRO\n",
      "Java-разработчик\n",
      "Python-разработчик\n",
      "Аналитик данных на Python\n",
      "Мобильный разработчик PRO\n"
     ]
    }
   ],
   "source": [
    "import requests\n",
    "from lxml import html\n",
    "\n",
    "page = requests.get('https://skillbox.ru/courses/all').content\n",
    "\n",
    "html_tree = html.fromstring(page)\n",
    "\n",
    "items_list = html_tree.xpath(\"//div[@class='{}'] \".format('course-info'))\n",
    "\n",
    "for course in items_list:\n",
    "    course_title = course.xpath(\"div[@class='{}']\".format('course-title'))[0]\n",
    "    course_tag = course.xpath(\"div[@class='{}']/div\".format('course-tags'))[0]\n",
    "    if course_tag.text == 'Программирование':\n",
    "        print(course_title.text)\n",
    "\n",
    "\n",
    "    "
   ]
  },
  {
   "cell_type": "markdown",
   "metadata": {},
   "source": [
    "### 4.2\n",
    "\n",
    "**Задание среднего уровня**. Выведите список всех курсов Skillbox по программированию, дизайну, маркетингу и управлению. Добавьте к каждому курсу ссылку http на этот курс на сайте Skillbox."
   ]
  },
  {
   "cell_type": "markdown",
   "metadata": {},
   "source": [
    "*Результат выполнения*\n",
    "<pre>\n",
    "Курс: Веб-дизайн с нуля до PRO  link:  https://skillbox.ru/webdesign/\n",
    "Курс: Рекламная графика  link:  https://skillbox.ru/cpeople/\n",
    "Курс: UX-дизайн  link:  https://skillbox.ru/aic/\n",
    "</pre>"
   ]
  },
  {
   "cell_type": "code",
   "execution_count": 12,
   "metadata": {},
   "outputs": [
    {
     "name": "stdout",
     "output_type": "stream",
     "text": [
      "Курс: Профессия Веб-дизайнер. link: https://course.skillbox.ru/iamdesigner \n",
      "Курс: Профессия UX-дизайнер. link: https://course.skillbox.ru/iamuxdesigner \n",
      "Курс: Профессия Графический дизайнер. link: https://course.skillbox.ru/iamgraphicdesigner \n",
      "Курс: Профессия Художник компьютерной графики. link: https://course.skillbox.ru/iamartist \n",
      "Курс: Профессия Дизайнер интерьеров. link: https://course.skillbox.ru/profession-interiordesigner \n",
      "Курс: Профессия Дизайнер мобильных приложений . link: https://skillbox.ru/course/profession-app-designer/ \n",
      "Курс: Профессия Motion-дизайнер. link: https://skillbox.ru/course/profession-motiondesigner/ \n",
      "Курс: Профессия Sound Designer. link: https://skillbox.ru/course/profession-sound-designer/ \n",
      "Курс: Веб-дизайн с 0 до PRO. link: https://course.skillbox.ru/webdesign/ \n",
      "Курс: Графический дизайнер с 0 до PRO. link: https://course.skillbox.ru/graphic-design/ \n",
      "Курс: Рекламная графика. link: https://course.skillbox.ru/course/cpeople/ \n",
      "Курс: Дизайн интерьеров с 0 до PRO. link: https://course.skillbox.ru/interiordesign-pro/ \n",
      "Курс: Скетчинг для дизайнеров. link: https://course.skillbox.ru/sketching/ \n",
      "Курс: Дизайн мобильных приложений. link: https://course.skillbox.ru/rmr/ \n",
      "Курс: Экспресс-курс «Дизайнер сайтов». link: https://course.skillbox.ru/redcollar/ \n",
      "Курс: Sound design. link: https://course.skillbox.ru/sound-design/ \n",
      "Курс: Анимация интерфейсов. link: https://course.skillbox.ru/motion/ \n",
      "Курс: Дизайнер сайтов на Tilda. link: https://course.skillbox.ru/tilda \n",
      "Курс: Motion-дизайн с нуля до PRO. link: https://course.skillbox.ru/motion-design \n",
      "Курс: 3D Max для дизайнеров интерьера. link: https://skillbox.ru/course/3d-max/ \n",
      "Курс: Дизайнер логотипа и фирменного стиля. link: https://course.skillbox.ru/logodesign \n",
      "Курс: Photoshop. link: https://course.skillbox.ru/photoshoppro/ \n",
      "Курс: Figma. link: https://course.skillbox.ru/figma/ \n",
      "Курс: Sketch. link: https://course.skillbox.ru/sketchapp/ \n",
      "Курс: After Effects с 0 до PRO. link: https://course.skillbox.ru/after-effects \n",
      "Курс: Archicad. link: https://course.skillbox.ru/archicad \n",
      "Курс: UX-дизайн с Майклом Джандой. link: https://janda.skillbox.ru/ \n",
      "Курс: Фриланс для дизайнера. link: https://skillbox.ru/course/freelancer/ \n",
      "Курс: Ableton Live c 0 до PRO. link: https://skillbox.ru/course/ableton-live/ \n",
      "Курс: Управление дизайн-командами и арт-дирекшн. link: https://new.skillbox.ru/artdirector \n",
      "Курс: Профессия Java-разработчик. link: https://course.skillbox.ru/profession-java \n",
      "Курс: Профессия Python-разработчик. link: https://course.skillbox.ru/profession-python \n",
      "Курс: Профессия Data Scientist. link: https://course.skillbox.ru/profession-data-scientist \n",
      "Курс: Профессия Веб-разработчик. link: https://course.skillbox.ru/profession-webdev \n",
      "Курс: Профессия 1С-разработчик. link: https://course.skillbox.ru/profession-1c \n",
      "Курс: Профессия разработчик игр на Unity. link: https://course.skillbox.ru/profession-gamedev/ \n",
      "Курс: Профессия разработчик игр на Unreal Engine 4. link: https://skillbox.ru/course/profession-unreal-engine-4 \n",
      "Курс: Профессия Мобильный разработчик. link: https://course.skillbox.ru/iammobdev \n",
      "Курс: Программист 1С-Битрикс. link: https://course.skillbox.ru/kurs-bitrix/ \n",
      "Курс: Профессия Frontend-разработчик. link: https://course.skillbox.ru/profession-frontend \n",
      "Курс: Профессия iOS-разработчик. link: https://course.skillbox.ru/profession-ios \n",
      "Курс: Профессия Android-разработчик. link: https://course.skillbox.ru/profession-android \n",
      "Курс: Профессия Тестировщик. link: https://skillbox.ru/course/profession-test/ \n",
      "Курс: Профессия PHP-разработчик. link: https://course.skillbox.ru/profession-php \n",
      "Курс: Профессия C#-разработчик. link: https://course.skillbox.ru/profession-c-sharp \n",
      "Курс: Веб-разработчик c 0 до PRO. link: https://course.skillbox.ru/webdev/ \n",
      "Курс: Frontend-разработчик. link: https://course.skillbox.ru/frontend-developer/ \n",
      "Курс: PHP-разработчик c 0 до PRO. link: https://course.skillbox.ru/php/ \n",
      "Курс: Java-разработчик. link: https://course.skillbox.ru/java/ \n",
      "Курс: Python-разработчик. link: https://course.skillbox.ru/python/ \n",
      "Курс: Аналитик данных на Python. link: https://course.skillbox.ru/python-data/ \n",
      "Курс: Профессия Интернет-маркетолог. link: https://course.skillbox.ru/profession-marketer \n",
      "Курс: Профессия SMM-специалист. link: https://course.skillbox.ru/profession-smm \n",
      "Курс: Интернет-маркетолог от А до Я. link: https://course.skillbox.ru/marketer/ \n",
      "Курс: Профессия Perfomance-маркетолог. link: https://course.skillbox.ru/iamperformance \n",
      "Курс: Интернет-маркетолог от Ingate. link: https://course.skillbox.ru/marketolog/ \n",
      "Курс: SMM-маркетолог от А до Я. link: https://course.skillbox.ru/course/smm/ \n",
      "Курс: Таргетолог от А до Я. link: https://course.skillbox.ru/targetolog/ \n",
      "Курс: Digital-стратег. link: https://course.skillbox.ru/digitalstrategy \n",
      "Курс: SEO-специалист. link: https://course.skillbox.ru/seo-specialist/ \n",
      "Курс: Продвижение в Инстаграм. link: https://course.skillbox.ru/instagram/ \n",
      "Курс: Управление репутацией бренда в сети. link: https://course.skillbox.ru/reputation/ \n",
      "Курс: Вирусный маркетинг. link: https://course.skillbox.ru/viral-marketolog \n",
      "Курс: CRM-маркетолог. link: https://course.skillbox.ru/crm-marketolog \n",
      "Курс: Креатив в digital. link: https://course.skillbox.ru/digital-creative \n",
      "Курс: Копирайтинг: информационный и креативный. link: https://course.skillbox.ru/copywriter/ \n",
      "Курс: UX-аналитик. link: https://course.skillbox.ru/aic/analytics/ \n",
      "Курс: Как делать контент для YouTube. link: https://course.skillbox.ru/blogger/ \n",
      "Курс: Event killer. link: https://course.skillbox.ru/event-killer \n",
      "Курс: Контекстная реклама от А до Я. link: https://skillbox.ru/course/ppc/ \n",
      "Курс: Управление Digital-проектами. link: https://course.skillbox.ru/sibirix/ \n",
      "Курс: Профессия Руководитель digital-проектов. link: https://skillbox.ru/course/profession-project-manager/ \n",
      "Курс: Профессия Product менеджер. link: https://skillbox.ru/course/profession-product-manager/ \n",
      "Курс: Менеджмент и маркетинг в индустрии спорта . link: https://course.skillbox.ru/sportmanagement/ \n",
      "Курс: Руководитель digital-проектов. link: https://course.skillbox.ru/sibirix-managment/ \n",
      "Курс: Управление продуктом. link: https://course.skillbox.ru/product-management \n",
      "Курс: Мастер презентации. link: https://course.skillbox.ru/presentation-master \n",
      "Курс: Как открыть и развивать веб‑студию. link: https://course.skillbox.ru/studio/ \n",
      "Курс: Эффективное партнерство в бизнесе. link: https://skillbox.ru/course/partnership/ \n",
      "Курс: Менеджмент в индустрии красоты. link: https://skillbox.ru/course/beauty-industry/ \n"
     ]
    }
   ],
   "source": [
    "import requests\n",
    "from lxml import html\n",
    "\n",
    "page = requests.get('https://skillbox.ru/courses/all').content\n",
    "\n",
    "html_tree = html.fromstring(page)\n",
    "\n",
    "items_list = html_tree.xpath(\"//div[@class='{}']\".format('course-wrap is-list-view js-courseWrap course-wrap-'))\n",
    "\n",
    "for course in items_list:\n",
    "    course_title = course.xpath(\"a/div/div[@class='{}']\".format('course-title'))[0]\n",
    "    link_tag = course.xpath(\"a/@href\")[0]\n",
    "    if 'http' not in link_tag:\n",
    "        link_tag = 'https://course.skillbox.ru' + link_tag\n",
    "    \n",
    "    print(f\"Курс: {course_title.text}. link: {link_tag} \")\n"
   ]
  },
  {
   "cell_type": "markdown",
   "metadata": {},
   "source": [
    "### 4.3\n",
    "**Задание высокого уровня**. Напишите код, который переходит по ссылкам на страницы курсов по программированию из предыдущего задания и распечатывает описание курса."
   ]
  },
  {
   "cell_type": "code",
   "execution_count": 13,
   "metadata": {
    "scrolled": true
   },
   "outputs": [
    {
     "data": {
      "text/html": [
       "<div>\n",
       "<style scoped>\n",
       "    .dataframe tbody tr th:only-of-type {\n",
       "        vertical-align: middle;\n",
       "    }\n",
       "\n",
       "    .dataframe tbody tr th {\n",
       "        vertical-align: top;\n",
       "    }\n",
       "\n",
       "    .dataframe thead th {\n",
       "        text-align: right;\n",
       "    }\n",
       "</style>\n",
       "<table border=\"1\" class=\"dataframe\">\n",
       "  <thead>\n",
       "    <tr style=\"text-align: right;\">\n",
       "      <th></th>\n",
       "      <th>course</th>\n",
       "      <th>descr</th>\n",
       "    </tr>\n",
       "  </thead>\n",
       "  <tbody>\n",
       "    <tr>\n",
       "      <td>0</td>\n",
       "      <td>Профессия Веб-дизайнер</td>\n",
       "      <td>Lorem Ipsum</td>\n",
       "    </tr>\n",
       "    <tr>\n",
       "      <td>1</td>\n",
       "      <td>Профессия UX-дизайнер</td>\n",
       "      <td>Lorem Ipsum</td>\n",
       "    </tr>\n",
       "    <tr>\n",
       "      <td>2</td>\n",
       "      <td>Профессия Графический дизайнер</td>\n",
       "      <td>Lorem Ipsum</td>\n",
       "    </tr>\n",
       "    <tr>\n",
       "      <td>3</td>\n",
       "      <td>Профессия Художник компьютерной графики</td>\n",
       "      <td>Lorem Ipsum</td>\n",
       "    </tr>\n",
       "    <tr>\n",
       "      <td>4</td>\n",
       "      <td>Профессия Дизайнер интерьеров</td>\n",
       "      <td>Lorem Ipsum</td>\n",
       "    </tr>\n",
       "    <tr>\n",
       "      <td>5</td>\n",
       "      <td>Профессия Дизайнер мобильных приложений</td>\n",
       "      <td>Вы научитесь создавать приложения под iOS и An...</td>\n",
       "    </tr>\n",
       "    <tr>\n",
       "      <td>6</td>\n",
       "      <td>Профессия Motion-дизайнер</td>\n",
       "      <td>Вы с нуля освоите необходимые инструменты для ...</td>\n",
       "    </tr>\n",
       "    <tr>\n",
       "      <td>7</td>\n",
       "      <td>Профессия Sound Designer</td>\n",
       "      <td>Вы научитесь работать со звуком: от записи до ...</td>\n",
       "    </tr>\n",
       "    <tr>\n",
       "      <td>8</td>\n",
       "      <td>Веб-дизайн с 0 до PRO</td>\n",
       "      <td>Lorem Ipsum</td>\n",
       "    </tr>\n",
       "    <tr>\n",
       "      <td>9</td>\n",
       "      <td>Графический дизайнер с 0 до PRO</td>\n",
       "      <td>Lorem Ipsum</td>\n",
       "    </tr>\n",
       "  </tbody>\n",
       "</table>\n",
       "</div>"
      ],
      "text/plain": [
       "                                     course  \\\n",
       "0                    Профессия Веб-дизайнер   \n",
       "1                     Профессия UX-дизайнер   \n",
       "2            Профессия Графический дизайнер   \n",
       "3   Профессия Художник компьютерной графики   \n",
       "4             Профессия Дизайнер интерьеров   \n",
       "5  Профессия Дизайнер мобильных приложений    \n",
       "6                 Профессия Motion-дизайнер   \n",
       "7                  Профессия Sound Designer   \n",
       "8                     Веб-дизайн с 0 до PRO   \n",
       "9           Графический дизайнер с 0 до PRO   \n",
       "\n",
       "                                               descr  \n",
       "0                                        Lorem Ipsum  \n",
       "1                                        Lorem Ipsum  \n",
       "2                                        Lorem Ipsum  \n",
       "3                                        Lorem Ipsum  \n",
       "4                                        Lorem Ipsum  \n",
       "5  Вы научитесь создавать приложения под iOS и An...  \n",
       "6  Вы с нуля освоите необходимые инструменты для ...  \n",
       "7  Вы научитесь работать со звуком: от записи до ...  \n",
       "8                                        Lorem Ipsum  \n",
       "9                                        Lorem Ipsum  "
      ]
     },
     "execution_count": 13,
     "metadata": {},
     "output_type": "execute_result"
    }
   ],
   "source": [
    "import pandas as pd\n",
    "import requests\n",
    "from lxml import html\n",
    "\n",
    "#создадим функцию для посещения сайтов с описанием \n",
    "def get_descr(link):\n",
    "    page_course = requests.get(link).content\n",
    "    course_tree = html.fromstring(page_course)\n",
    "    items_list = course_tree.xpath(\"//p[contains(@class,'desc')]\")\n",
    "    if items_list:\n",
    "        return items_list[0].text.strip()\n",
    "    else:    \n",
    "        return 'Lorem Ipsum'\n",
    "    \n",
    "        \n",
    "        \n",
    "\n",
    "page = requests.get('https://skillbox.ru/courses/all').content\n",
    "\n",
    "html_tree = html.fromstring(page)\n",
    "\n",
    "items_list = html_tree.xpath(\"//div[@class='{}']\".format('course-wrap is-list-view js-courseWrap course-wrap-'))\n",
    "\n",
    "\n",
    "\n",
    "links = []\n",
    "cours = []\n",
    "descr = []\n",
    "\n",
    "for course in items_list:\n",
    "    course_title = course.xpath(\"a/div/div[@class='{}']\".format('course-title'))[0]\n",
    "    link_tag = course.xpath(\"a/@href\")[0]\n",
    "    if 'http' not in link_tag:\n",
    "        link_tag = 'https://course.skillbox.ru' + link_tag\n",
    "    \n",
    "    cours.append(course_title.text)\n",
    "    descr.append(get_descr(link_tag))\n",
    "\n",
    "result_df = pd.DataFrame({\n",
    "    'course': cours,\n",
    "    'descr': descr\n",
    "})\n",
    "\n",
    "result_df.head(10)\n",
    "#там, где Lorem Ipsum в описании: ссылки на эти сайты на основном сайте одни,\n",
    "#Но когда самостоятельно из браузера переходишь, адресс уже другой.\n",
    "# Например: для профессии веб-дизайнер Линк из основного сайта https://course.skillbox.ru/iamdesigner.\n",
    "# а при переходе в адрессной строке: https://skillbox.ru/course/profession-webdesigner/. \n",
    "# где искать правильную ссылку, я не понял"
   ]
  },
  {
   "cell_type": "markdown",
   "metadata": {},
   "source": [
    "## 5. Работа с данными формата XML"
   ]
  },
  {
   "cell_type": "markdown",
   "metadata": {},
   "source": [
    "### 5.1\n",
    "\n",
    "**Задание начального уровня** Распечатайте все фильмы (а не только драмы) в формате: `название фильма: жанр`"
   ]
  },
  {
   "cell_type": "code",
   "execution_count": 49,
   "metadata": {},
   "outputs": [
    {
     "name": "stdout",
     "output_type": "stream",
     "text": [
      "The Shawshank Redemption: drama\n",
      "The Dark Knight: drama\n",
      "\"Back 2 the Future\": adventure\n"
     ]
    }
   ],
   "source": [
    "'''в данном файле у третьего фильма не было ни жанра, ни продолжительности. \n",
    "Поэтому я самостоятельно вручную добавил теги genre и duration и значения в них'''\n",
    "\n",
    "from xml.etree import ElementTree\n",
    "\n",
    "file_path = './data/xml_content_description.xml'\n",
    "\n",
    "with open(file_path) as f:\n",
    "    \n",
    "    doc = ElementTree.parse(f)\n",
    "    content_titles = doc.getroot()\n",
    "    for movie in content_titles.findall(\"./Content/content_title\"):\n",
    "        name_film = movie.find(\"./title\").text\n",
    "        genre_film = movie.find(\"./genre\").text\n",
    "        print(f'{name_film}: {genre_film}')\n",
    "        "
   ]
  },
  {
   "cell_type": "markdown",
   "metadata": {},
   "source": [
    "### 5.2\n",
    "**Задание среднего уровня** Посчитайте среднюю длительность контента в файле. xml_content_description"
   ]
  },
  {
   "cell_type": "code",
   "execution_count": 55,
   "metadata": {
    "scrolled": true
   },
   "outputs": [
    {
     "name": "stdout",
     "output_type": "stream",
     "text": [
      "The Shawshank Redemption: drama, продолжительность: 142.0 минут\n",
      "The Dark Knight: drama, продолжительность: 152.0 минут\n",
      "\"Back 2 the Future\": adventure, продолжительность: 120.0 минут\n",
      "avg_duration = 138.0 минут\n"
     ]
    }
   ],
   "source": [
    "import math\n",
    "from xml.etree import ElementTree\n",
    "\n",
    "file_path = './data/xml_content_description.xml'\n",
    "duration = []\n",
    "num_content = 0\n",
    "with open(file_path) as f:\n",
    "    doc = ElementTree.parse(f)\n",
    "    content_titles = doc.getroot()\n",
    "    for movie in content_titles.findall(\"./Content/content_title\"):\n",
    "        name_film = movie.find(\"./title\").text\n",
    "        genre_film = movie.find(\"./genre\").text\n",
    "        duration_film = int(movie.find(\"./duration\").text)/60\n",
    "        num_content+=1\n",
    "        duration.append(duration_film)\n",
    "        print(f'{name_film}: {genre_film}, продолжительность: {duration_film} минут')\n",
    "\n",
    "\n",
    "\n",
    "print(\"avg_duration = {} минут\".format(sum(duration)/num_content))"
   ]
  },
  {
   "cell_type": "markdown",
   "metadata": {},
   "source": [
    "### 5.3\n",
    "**Задание высокого уровня** Если речь идёт о продакшн-системах машинного обучения, то данные могут приходить в форматах, мало пригодных для использования - например XML. В таких случаях приходится приводить данные к превычному табличному формату - такой кейс мы решим в рамках домашней работы.\n",
    "\n",
    "Нужно определить, сколько полей будет в выходном файле и как залить в него данные\n",
    "\n",
    "Алгоритм\n",
    "* сформируйте массив словарей `content_list`, где каждый элемент массива - это словарь вида `{tag1: value1,...,tag_n:value_n}`\n",
    "* каждый результат findall можно итеративно обойти, распечатав тэг и его значение в виде\n",
    "<pre>\n",
    "        for i in movie:\n",
    "            print(i.text, i.tag)\n",
    "</pre>\n",
    "* из полученного словаря сформируйте DataFrame с тремя колонками: `movie_id | tag | value` (movie_id соответствует номеру словаря среди всех словарей `content_list`)\n",
    "* сохраните Dataframe c помощью функции `.to_csv()`"
   ]
  },
  {
   "cell_type": "code",
   "execution_count": 93,
   "metadata": {},
   "outputs": [
    {
     "data": {
      "text/html": [
       "<div>\n",
       "<style scoped>\n",
       "    .dataframe tbody tr th:only-of-type {\n",
       "        vertical-align: middle;\n",
       "    }\n",
       "\n",
       "    .dataframe tbody tr th {\n",
       "        vertical-align: top;\n",
       "    }\n",
       "\n",
       "    .dataframe thead th {\n",
       "        text-align: right;\n",
       "    }\n",
       "</style>\n",
       "<table border=\"1\" class=\"dataframe\">\n",
       "  <thead>\n",
       "    <tr style=\"text-align: right;\">\n",
       "      <th></th>\n",
       "      <th>content_id</th>\n",
       "      <th>genre</th>\n",
       "      <th>title</th>\n",
       "      <th>iid</th>\n",
       "      <th>releaseTime</th>\n",
       "      <th>state</th>\n",
       "      <th>location</th>\n",
       "      <th>duration</th>\n",
       "      <th>descr</th>\n",
       "      <th>year</th>\n",
       "    </tr>\n",
       "  </thead>\n",
       "  <tbody>\n",
       "    <tr>\n",
       "      <td>0</td>\n",
       "      <td>1181251680</td>\n",
       "      <td>drama</td>\n",
       "      <td>The Shawshank Redemption</td>\n",
       "      <td>040000008200E000</td>\n",
       "      <td>1181572063</td>\n",
       "      <td>None</td>\n",
       "      <td>NaN</td>\n",
       "      <td>8520</td>\n",
       "      <td>Two imprisoned men bond over a number of years...</td>\n",
       "      <td>NaN</td>\n",
       "    </tr>\n",
       "    <tr>\n",
       "      <td>1</td>\n",
       "      <td>1234360800</td>\n",
       "      <td>drama</td>\n",
       "      <td>The Dark Knight</td>\n",
       "      <td>604f4792-eb89-478b-a14f-dd34d3cc6c21-1234360800</td>\n",
       "      <td>NaN</td>\n",
       "      <td>dismissed</td>\n",
       "      <td>NaN</td>\n",
       "      <td>9120</td>\n",
       "      <td>The Dark Knight must accept one of the greates...</td>\n",
       "      <td>NaN</td>\n",
       "    </tr>\n",
       "    <tr>\n",
       "      <td>2</td>\n",
       "      <td>NaN</td>\n",
       "      <td>adventure</td>\n",
       "      <td>\"Back 2 the Future\"</td>\n",
       "      <td>NaN</td>\n",
       "      <td>NaN</td>\n",
       "      <td>NaN</td>\n",
       "      <td>NaN</td>\n",
       "      <td>7200</td>\n",
       "      <td>Marty McFly</td>\n",
       "      <td>1985</td>\n",
       "    </tr>\n",
       "  </tbody>\n",
       "</table>\n",
       "</div>"
      ],
      "text/plain": [
       "   content_id      genre                     title  \\\n",
       "0  1181251680      drama  The Shawshank Redemption   \n",
       "1  1234360800      drama           The Dark Knight   \n",
       "2         NaN  adventure       \"Back 2 the Future\"   \n",
       "\n",
       "                                               iid releaseTime      state  \\\n",
       "0                                 040000008200E000  1181572063       None   \n",
       "1  604f4792-eb89-478b-a14f-dd34d3cc6c21-1234360800         NaN  dismissed   \n",
       "2                                              NaN         NaN        NaN   \n",
       "\n",
       "   location duration                                              descr  year  \n",
       "0       NaN     8520  Two imprisoned men bond over a number of years...   NaN  \n",
       "1       NaN     9120  The Dark Knight must accept one of the greates...   NaN  \n",
       "2       NaN     7200                                        Marty McFly  1985  "
      ]
     },
     "execution_count": 93,
     "metadata": {},
     "output_type": "execute_result"
    }
   ],
   "source": [
    "# читаем входной файл\n",
    "import pandas as pd\n",
    "from xml.etree import ElementTree\n",
    "\n",
    "file_path = './data/xml_content_description.xml'\n",
    "content_list = []\n",
    "\n",
    "with open(file_path) as f:\n",
    "    \n",
    "    doc = ElementTree.parse(f)\n",
    "    content_titles = doc.getroot()\n",
    "    for movie in content_titles.findall(\"./Content/content_title\"):\n",
    "        #print('-------------------')\n",
    "        dict_film = {}\n",
    "        for i in movie:\n",
    "            dict_film[i.tag] = i.text\n",
    "            #print(i.text, i.tag)\n",
    "        content_list.append(dict_film)\n",
    "        #print('-------------------')\n",
    "#print(content_list)\n",
    "#не смог сделать три колонки. да и не понимаю зачем. по мне так, такой вывод логичнее.\n",
    "\n",
    "df = pd.DataFrame(content_list)\n",
    "df.to_csv('films.csv')\n",
    "df\n"
   ]
  },
  {
   "cell_type": "code",
   "execution_count": null,
   "metadata": {},
   "outputs": [],
   "source": []
  }
 ],
 "metadata": {
  "kernelspec": {
   "display_name": "Python 3",
   "language": "python",
   "name": "python3"
  },
  "language_info": {
   "codemirror_mode": {
    "name": "ipython",
    "version": 3
   },
   "file_extension": ".py",
   "mimetype": "text/x-python",
   "name": "python",
   "nbconvert_exporter": "python",
   "pygments_lexer": "ipython3",
   "version": "3.7.4"
  }
 },
 "nbformat": 4,
 "nbformat_minor": 2
}
