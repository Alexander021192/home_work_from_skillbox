{
 "cells": [
  {
   "cell_type": "code",
   "execution_count": 1,
   "metadata": {
    "colab": {},
    "colab_type": "code",
    "id": "QgRYc_0IKkdd"
   },
   "outputs": [],
   "source": [
    "import pandas as pd\n",
    "%matplotlib inline\n",
    "import os\n",
    "import matplotlib.pyplot as plt\n",
    "plt.rcParams['figure.figsize'] = (7.0, 7.0)\n",
    "os.environ[\"NLS_LANG\"] = \"American_America.AL32UTF8\"\n",
    "\n",
    "import numpy as np\n",
    "import seaborn as sns"
   ]
  },
  {
   "cell_type": "markdown",
   "metadata": {
    "colab_type": "text",
    "id": "5YXm1ByBKkdw"
   },
   "source": [
    "## Данные - датасет и загрузка"
   ]
  },
  {
   "cell_type": "markdown",
   "metadata": {
    "colab_type": "text",
    "id": "v28m4CiMKkdy"
   },
   "source": [
    "В современной финтех индустрии одной из ключевых сфер для применения data science является процесс кредитного скоринга.\n",
    "Скоринговые модели помогают датасаентистам определить, какие клиенты с наибольшей вероятностью вернут выданный кредит, что помогает банку сформировать прибыльный продуктовый портфель и управлять рисками.\n",
    "\n",
    "В этом кейсе вам предстоит исследовать данные о заявках клиентов на кредитную карту и кредитной истории.\n",
    "- Для задания понадобятся данные из https://www.kaggle.com/rikdifos/credit-card-approval-prediction (также Вы можете найти данные [в данной папке](https://drive.google.com/drive/folders/1v5RTvwpLfYVO86KfXyfMsT3DEXb7hnCG?usp=sharing))\n",
    "- Описание данных находится на страничке датасета."
   ]
  },
  {
   "cell_type": "code",
   "execution_count": 2,
   "metadata": {
    "colab": {},
    "colab_type": "code",
    "id": "aFzCCj6xKkd1"
   },
   "outputs": [],
   "source": [
    "# Загрузим файлы датасета.\n",
    "app = pd.read_csv(\"data/application_record.csv\", sep=\",\")\n",
    "app.columns = map(str.lower, app.columns)\n",
    "\n",
    "credit = pd.read_csv(\"data/credit_record.csv\", sep=\",\")\n",
    "credit.columns = map(str.lower, credit.columns)"
   ]
  },
  {
   "cell_type": "code",
   "execution_count": 3,
   "metadata": {
    "colab": {},
    "colab_type": "code",
    "id": "qraM-8GhKkeD",
    "outputId": "b4fdd6d9-24d5-4936-c98b-75c1d7021a7f"
   },
   "outputs": [
    {
     "data": {
      "text/html": [
       "<div>\n",
       "<style scoped>\n",
       "    .dataframe tbody tr th:only-of-type {\n",
       "        vertical-align: middle;\n",
       "    }\n",
       "\n",
       "    .dataframe tbody tr th {\n",
       "        vertical-align: top;\n",
       "    }\n",
       "\n",
       "    .dataframe thead th {\n",
       "        text-align: right;\n",
       "    }\n",
       "</style>\n",
       "<table border=\"1\" class=\"dataframe\">\n",
       "  <thead>\n",
       "    <tr style=\"text-align: right;\">\n",
       "      <th></th>\n",
       "      <th>id</th>\n",
       "      <th>code_gender</th>\n",
       "      <th>flag_own_car</th>\n",
       "      <th>flag_own_realty</th>\n",
       "      <th>cnt_children</th>\n",
       "      <th>amt_income_total</th>\n",
       "      <th>name_income_type</th>\n",
       "      <th>name_education_type</th>\n",
       "      <th>name_family_status</th>\n",
       "      <th>name_housing_type</th>\n",
       "      <th>days_birth</th>\n",
       "      <th>days_employed</th>\n",
       "      <th>flag_mobil</th>\n",
       "      <th>flag_work_phone</th>\n",
       "      <th>flag_phone</th>\n",
       "      <th>flag_email</th>\n",
       "      <th>occupation_type</th>\n",
       "      <th>cnt_fam_members</th>\n",
       "    </tr>\n",
       "  </thead>\n",
       "  <tbody>\n",
       "    <tr>\n",
       "      <td>0</td>\n",
       "      <td>5008804</td>\n",
       "      <td>M</td>\n",
       "      <td>Y</td>\n",
       "      <td>Y</td>\n",
       "      <td>0</td>\n",
       "      <td>427500.0</td>\n",
       "      <td>Working</td>\n",
       "      <td>Higher education</td>\n",
       "      <td>Civil marriage</td>\n",
       "      <td>Rented apartment</td>\n",
       "      <td>-12005</td>\n",
       "      <td>-4542</td>\n",
       "      <td>1</td>\n",
       "      <td>1</td>\n",
       "      <td>0</td>\n",
       "      <td>0</td>\n",
       "      <td>NaN</td>\n",
       "      <td>2.0</td>\n",
       "    </tr>\n",
       "    <tr>\n",
       "      <td>1</td>\n",
       "      <td>5008805</td>\n",
       "      <td>M</td>\n",
       "      <td>Y</td>\n",
       "      <td>Y</td>\n",
       "      <td>0</td>\n",
       "      <td>427500.0</td>\n",
       "      <td>Working</td>\n",
       "      <td>Higher education</td>\n",
       "      <td>Civil marriage</td>\n",
       "      <td>Rented apartment</td>\n",
       "      <td>-12005</td>\n",
       "      <td>-4542</td>\n",
       "      <td>1</td>\n",
       "      <td>1</td>\n",
       "      <td>0</td>\n",
       "      <td>0</td>\n",
       "      <td>NaN</td>\n",
       "      <td>2.0</td>\n",
       "    </tr>\n",
       "    <tr>\n",
       "      <td>2</td>\n",
       "      <td>5008806</td>\n",
       "      <td>M</td>\n",
       "      <td>Y</td>\n",
       "      <td>Y</td>\n",
       "      <td>0</td>\n",
       "      <td>112500.0</td>\n",
       "      <td>Working</td>\n",
       "      <td>Secondary / secondary special</td>\n",
       "      <td>Married</td>\n",
       "      <td>House / apartment</td>\n",
       "      <td>-21474</td>\n",
       "      <td>-1134</td>\n",
       "      <td>1</td>\n",
       "      <td>0</td>\n",
       "      <td>0</td>\n",
       "      <td>0</td>\n",
       "      <td>Security staff</td>\n",
       "      <td>2.0</td>\n",
       "    </tr>\n",
       "  </tbody>\n",
       "</table>\n",
       "</div>"
      ],
      "text/plain": [
       "        id code_gender flag_own_car flag_own_realty  cnt_children  \\\n",
       "0  5008804           M            Y               Y             0   \n",
       "1  5008805           M            Y               Y             0   \n",
       "2  5008806           M            Y               Y             0   \n",
       "\n",
       "   amt_income_total name_income_type            name_education_type  \\\n",
       "0          427500.0          Working               Higher education   \n",
       "1          427500.0          Working               Higher education   \n",
       "2          112500.0          Working  Secondary / secondary special   \n",
       "\n",
       "  name_family_status  name_housing_type  days_birth  days_employed  \\\n",
       "0     Civil marriage   Rented apartment      -12005          -4542   \n",
       "1     Civil marriage   Rented apartment      -12005          -4542   \n",
       "2            Married  House / apartment      -21474          -1134   \n",
       "\n",
       "   flag_mobil  flag_work_phone  flag_phone  flag_email occupation_type  \\\n",
       "0           1                1           0           0             NaN   \n",
       "1           1                1           0           0             NaN   \n",
       "2           1                0           0           0  Security staff   \n",
       "\n",
       "   cnt_fam_members  \n",
       "0              2.0  \n",
       "1              2.0  \n",
       "2              2.0  "
      ]
     },
     "execution_count": 3,
     "metadata": {},
     "output_type": "execute_result"
    }
   ],
   "source": [
    "app.head(3)"
   ]
  },
  {
   "cell_type": "code",
   "execution_count": 4,
   "metadata": {
    "colab": {},
    "colab_type": "code",
    "id": "0RcgbYHAKkeP",
    "outputId": "e6a3c2d7-4610-4a68-d58d-abb55feb1618"
   },
   "outputs": [
    {
     "data": {
      "text/html": [
       "<div>\n",
       "<style scoped>\n",
       "    .dataframe tbody tr th:only-of-type {\n",
       "        vertical-align: middle;\n",
       "    }\n",
       "\n",
       "    .dataframe tbody tr th {\n",
       "        vertical-align: top;\n",
       "    }\n",
       "\n",
       "    .dataframe thead th {\n",
       "        text-align: right;\n",
       "    }\n",
       "</style>\n",
       "<table border=\"1\" class=\"dataframe\">\n",
       "  <thead>\n",
       "    <tr style=\"text-align: right;\">\n",
       "      <th></th>\n",
       "      <th>id</th>\n",
       "      <th>months_balance</th>\n",
       "      <th>status</th>\n",
       "    </tr>\n",
       "  </thead>\n",
       "  <tbody>\n",
       "    <tr>\n",
       "      <td>0</td>\n",
       "      <td>5001711</td>\n",
       "      <td>0</td>\n",
       "      <td>X</td>\n",
       "    </tr>\n",
       "    <tr>\n",
       "      <td>1</td>\n",
       "      <td>5001711</td>\n",
       "      <td>-1</td>\n",
       "      <td>0</td>\n",
       "    </tr>\n",
       "    <tr>\n",
       "      <td>2</td>\n",
       "      <td>5001711</td>\n",
       "      <td>-2</td>\n",
       "      <td>0</td>\n",
       "    </tr>\n",
       "  </tbody>\n",
       "</table>\n",
       "</div>"
      ],
      "text/plain": [
       "        id  months_balance status\n",
       "0  5001711               0      X\n",
       "1  5001711              -1      0\n",
       "2  5001711              -2      0"
      ]
     },
     "execution_count": 4,
     "metadata": {},
     "output_type": "execute_result"
    }
   ],
   "source": [
    "credit.head(3)"
   ]
  },
  {
   "cell_type": "markdown",
   "metadata": {
    "colab_type": "text",
    "id": "PhOIZy1NKkeY"
   },
   "source": [
    "### Задание 1 - проверка качества данных\n",
    "Перечислите названия колонок датасета app, в котором есть незаполненные (Null) значения."
   ]
  },
  {
   "cell_type": "code",
   "execution_count": 9,
   "metadata": {
    "colab": {},
    "colab_type": "code",
    "id": "GG30PPKtLbik"
   },
   "outputs": [
    {
     "data": {
      "text/plain": [
       "id                          0\n",
       "code_gender                 0\n",
       "flag_own_car                0\n",
       "flag_own_realty             0\n",
       "cnt_children                0\n",
       "amt_income_total            0\n",
       "name_income_type            0\n",
       "name_education_type         0\n",
       "name_family_status          0\n",
       "name_housing_type           0\n",
       "days_birth                  0\n",
       "days_employed               0\n",
       "flag_mobil                  0\n",
       "flag_work_phone             0\n",
       "flag_phone                  0\n",
       "flag_email                  0\n",
       "occupation_type        134203\n",
       "cnt_fam_members             0\n",
       "dtype: int64"
      ]
     },
     "execution_count": 9,
     "metadata": {},
     "output_type": "execute_result"
    }
   ],
   "source": [
    "# подсчитаем кол-во незаполненных значений по всем колонкам \n",
    "null_in_columns = app.isna().sum()\n",
    "null_columns # видно, что только в одной колонке присутствуют нулевые значения. \n"
   ]
  },
  {
   "cell_type": "code",
   "execution_count": 12,
   "metadata": {},
   "outputs": [
    {
     "name": "stdout",
     "output_type": "stream",
     "text": [
      "список колонок, в которых есть незаполненные значения: ['occupation_type']\n"
     ]
    }
   ],
   "source": [
    "# выведем список колонок с нулевыми значениями. P.S. в нашем случае список будет содержать 1 элемент.\n",
    "print(f'список колонок, в которых есть незаполненные значения: {list(null_columns[null_columns>0].index)}')"
   ]
  },
  {
   "cell_type": "markdown",
   "metadata": {
    "colab_type": "text",
    "id": "C4ueOm2gKkej"
   },
   "source": [
    "### Задание 2 - проверка качества данных\n",
    "Рассчитайте долю незаполненных значений в колонке с их максимальным количеством.\n",
    "Результат округлите до двух знаков после запятой (округление в большую сторону)."
   ]
  },
  {
   "cell_type": "code",
   "execution_count": 296,
   "metadata": {
    "colab": {},
    "colab_type": "code",
    "id": "bXNqCtuYLcUQ"
   },
   "outputs": [
    {
     "name": "stdout",
     "output_type": "stream",
     "text": [
      "доля незаполненных значений для каждой колонки в датафрейме application равна: occupation_type    0.31\n",
      "dtype: float64\n"
     ]
    }
   ],
   "source": [
    "# посчитаем максимальное возможное количество значений в колонке нашего датафрейма\n",
    "max_count_values = len(app)\n",
    "# затем просто поделим количество нулевых значений в колонке на максимальное возможное количество значений \n",
    "#с округлением до двух знаков \n",
    "share_null_in_columns = round(null_columns[null_columns>0]/max_count_values,2)\n",
    "print(f'доля незаполненных значений для каждой колонки в датафрейме application равна: {share_null_in_columns}')\n"
   ]
  },
  {
   "cell_type": "markdown",
   "metadata": {
    "colab_type": "text",
    "id": "5RpoItmiKkep"
   },
   "source": [
    "### Задание 3\n",
    "Определите число дубликатов в столбце с айди клиента (id)"
   ]
  },
  {
   "cell_type": "code",
   "execution_count": 294,
   "metadata": {
    "colab": {},
    "colab_type": "code",
    "id": "xf1vHbP_LdFn"
   },
   "outputs": [
    {
     "name": "stdout",
     "output_type": "stream",
     "text": [
      "число дубликатов в столбце id: 47\n"
     ]
    }
   ],
   "source": [
    "# используем функцию которая возвращает True, если id - дубликат. \n",
    "# и затем просто подсчитаем их количество функцией sum()\n",
    "print(f'число дубликатов в столбце id: {app.id.duplicated().sum()}')\n"
   ]
  },
  {
   "cell_type": "markdown",
   "metadata": {
    "colab_type": "text",
    "id": "wHAbJzsHKkex"
   },
   "source": [
    "### Задание 4\n",
    "Определите самые популярные профессии клиентов (occupation_type), исключая Null значения, отсортировав их по числу id.\n",
    "\n",
    "Результат представьте в виде dict вида {профессия:число клиентов}."
   ]
  },
  {
   "cell_type": "code",
   "execution_count": 301,
   "metadata": {
    "colab": {},
    "colab_type": "code",
    "id": "dk_X5OJMLdyM"
   },
   "outputs": [
    {
     "data": {
      "text/plain": [
       "{'Laborers': 78240,\n",
       " 'Core staff': 43007,\n",
       " 'Sales staff': 41098,\n",
       " 'Managers': 35487,\n",
       " 'Drivers': 26090}"
      ]
     },
     "execution_count": 301,
     "metadata": {},
     "output_type": "execute_result"
    }
   ],
   "source": [
    "# отберу из основного датасета необходимые колонки: id и occupation_type, которые нужны для рассчетов.  \n",
    "popular_occupation = app[['id','occupation_type']]\n",
    "# группируем по професиям (occupation_type) и делаем подсчет строк id, принадлежащих к каждой професии.\n",
    "# отсортируем значения по убыванию и выведем только первые 5. То есть Топ 5 профессий. \n",
    "dict(popular_occupation.groupby('occupation_type')['id'].count().sort_values(ascending=False).head(5))"
   ]
  },
  {
   "cell_type": "markdown",
   "metadata": {
    "colab_type": "text",
    "id": "gCm9luYqKke3"
   },
   "source": [
    "### Задание 5\n",
    "Клиенты с каким уровнем образования (name_education_type) имеют наибольший средний доход? Помимо уровня образования укажите и средний доход для него, округленный до двух знаков после запятой."
   ]
  },
  {
   "cell_type": "code",
   "execution_count": 92,
   "metadata": {},
   "outputs": [
    {
     "name": "stderr",
     "output_type": "stream",
     "text": [
      "D:\\programms\\conda\\lib\\site-packages\\ipykernel_launcher.py:7: SettingWithCopyWarning: \n",
      "A value is trying to be set on a copy of a slice from a DataFrame.\n",
      "Try using .loc[row_indexer,col_indexer] = value instead\n",
      "\n",
      "See the caveats in the documentation: http://pandas.pydata.org/pandas-docs/stable/user_guide/indexing.html#returning-a-view-versus-a-copy\n",
      "  import sys\n"
     ]
    },
    {
     "data": {
      "text/html": [
       "<div>\n",
       "<style scoped>\n",
       "    .dataframe tbody tr th:only-of-type {\n",
       "        vertical-align: middle;\n",
       "    }\n",
       "\n",
       "    .dataframe tbody tr th {\n",
       "        vertical-align: top;\n",
       "    }\n",
       "\n",
       "    .dataframe thead th {\n",
       "        text-align: right;\n",
       "    }\n",
       "</style>\n",
       "<table border=\"1\" class=\"dataframe\">\n",
       "  <thead>\n",
       "    <tr style=\"text-align: right;\">\n",
       "      <th></th>\n",
       "      <th>name_education_type</th>\n",
       "      <th>average_monthly_income</th>\n",
       "    </tr>\n",
       "  </thead>\n",
       "  <tbody>\n",
       "    <tr>\n",
       "      <td>228164</td>\n",
       "      <td>Higher education</td>\n",
       "      <td>562500.0</td>\n",
       "    </tr>\n",
       "  </tbody>\n",
       "</table>\n",
       "</div>"
      ],
      "text/plain": [
       "       name_education_type  average_monthly_income\n",
       "228164    Higher education                562500.0"
      ]
     },
     "execution_count": 92,
     "metadata": {},
     "output_type": "execute_result"
    }
   ],
   "source": [
    "# отберу из основного датасета необходимые колонки: name_education_typed и amt_income_total, которые нужны для рассчетов.  \n",
    "education_with_average_monthly_income = app[['name_education_type','amt_income_total']]\n",
    "# преобразуем колонку с годовым доходом (amt_income_total) в средний доход в месяц.\n",
    "# здесь мы поделим годовой доход на 12 b округлим значение до двух знаков (количество месяцев в году)\n",
    "f = lambda x: round(x/12,2) # функция для деления и округления значений колонок. \n",
    "education_with_average_monthly_income['amt_income_total'] = education_with_average_monthly_income['amt_income_total'].apply(f)\n",
    "# переименуем колонку в средний месяцный доход. (average_monthly_income)\n",
    "education_with_average_monthly_income.rename(columns={'amt_income_total':'average_monthly_income'}, inplace = True)\n",
    "# остортируем датасет по колонке дохода по убыванию и выведем первую строку. \n",
    "# Где отображен уровень обрахования для самого наибольшего среднемесячного дохода  \n",
    "education_with_average_monthly_income.sort_values(by='average_monthly_income', ascending=False).head(1)\n"
   ]
  },
  {
   "cell_type": "markdown",
   "metadata": {},
   "source": [
    "Как видно из полученных результатов, наибольший средний доход имеют клиенты с высшым образованием."
   ]
  },
  {
   "cell_type": "markdown",
   "metadata": {
    "colab_type": "text",
    "id": "YPIHIg8uKke-"
   },
   "source": [
    "### Задание 6\n",
    "Для клиентов с уровнем образования из п4 и семейным положением (name_family_status) Married, выясните, у кого в среднем больше доход (amt_income_total) - у клиентов с машиной или без?"
   ]
  },
  {
   "cell_type": "code",
   "execution_count": 114,
   "metadata": {
    "colab": {},
    "colab_type": "code",
    "id": "VKcVMEFtLfPl"
   },
   "outputs": [
    {
     "data": {
      "text/html": [
       "<div>\n",
       "<style scoped>\n",
       "    .dataframe tbody tr th:only-of-type {\n",
       "        vertical-align: middle;\n",
       "    }\n",
       "\n",
       "    .dataframe tbody tr th {\n",
       "        vertical-align: top;\n",
       "    }\n",
       "\n",
       "    .dataframe thead th {\n",
       "        text-align: right;\n",
       "    }\n",
       "</style>\n",
       "<table border=\"1\" class=\"dataframe\">\n",
       "  <thead>\n",
       "    <tr style=\"text-align: right;\">\n",
       "      <th></th>\n",
       "      <th>flag_own_car</th>\n",
       "      <th>average_income_total</th>\n",
       "    </tr>\n",
       "  </thead>\n",
       "  <tbody>\n",
       "    <tr>\n",
       "      <td>0</td>\n",
       "      <td>N</td>\n",
       "      <td>199715.546097</td>\n",
       "    </tr>\n",
       "    <tr>\n",
       "      <td>1</td>\n",
       "      <td>Y</td>\n",
       "      <td>252649.966973</td>\n",
       "    </tr>\n",
       "  </tbody>\n",
       "</table>\n",
       "</div>"
      ],
      "text/plain": [
       "  flag_own_car  average_income_total\n",
       "0            N         199715.546097\n",
       "1            Y         252649.966973"
      ]
     },
     "execution_count": 114,
     "metadata": {},
     "output_type": "execute_result"
    }
   ],
   "source": [
    "# возьмем уровень образования из п5: Higher education. Так как из п.4 непонятно какой именно уровень образования брать.\n",
    "average_income_car = app[['name_education_type','name_family_status','amt_income_total', 'flag_own_car']]\n",
    "# отберем значения с уровнем образования Higher education, и семейным статусом Married.\n",
    "condition = 'name_education_type == \"Higher education\" and name_family_status == \"Married\"'\n",
    "average_income_car = average_income_car.query(condition)\n",
    "# сгруппируем значения по наличию машины. и поситаем среднее значение дохода у обоих групп. \n",
    "average_income_car.groupby('flag_own_car')['amt_income_total'].mean().reset_index(name='average_income_total')"
   ]
  },
  {
   "cell_type": "markdown",
   "metadata": {},
   "source": [
    "Как видно из полученных результатов, в среднем доход больше у клиентов с машиной."
   ]
  },
  {
   "cell_type": "markdown",
   "metadata": {
    "colab_type": "text",
    "id": "6iYvcyB5KkfE"
   },
   "source": [
    "### Задание 7\n",
    "Рассчитайте разнциу между медианным стажем (days_employed) мужчин и женщин в месяцах. В ответе приведите модуль от это числа, округленный до двух знаков после запятой."
   ]
  },
  {
   "cell_type": "code",
   "execution_count": 171,
   "metadata": {
    "colab": {},
    "colab_type": "code",
    "id": "mFiF-JvYLgId"
   },
   "outputs": [
    {
     "data": {
      "text/plain": [
       "3.32"
      ]
     },
     "execution_count": 171,
     "metadata": {},
     "output_type": "execute_result"
    }
   ],
   "source": [
    "# отберу из основного датасета необходимые колонки: code_gender и days_employed, которые нужны для рассчетов. \n",
    "days_employed = app[['code_gender','days_employed']]\n",
    "# сгруппируем значения по code_gender b посчитаем median от days_employed\n",
    "median_days_employed = days_employed.groupby('code_gender').median()\n",
    "# переименуем колонку days_employed на median_days_eployed\n",
    "median_days_employed = median_days_employed.reset_index().rename(columns={'days_employed':'median_days_eployed'})\n",
    "# посчитаем разницу, и возьмем модуль этого числа\n",
    "difference_days_employed = abs(median_days_employed['median_days_eployed'][0] - median_days_employed['median_days_eployed'][1])\n",
    "# чтобы перевести в месяцы разницу дней. поделим на среднее число дней в месяце\n",
    "round(difference_days_employed/(365/12),2) \n"
   ]
  },
  {
   "cell_type": "markdown",
   "metadata": {},
   "source": [
    "в среднем разница составляет 3,32 месяца."
   ]
  },
  {
   "cell_type": "markdown",
   "metadata": {
    "colab_type": "text",
    "id": "rehMDbcjKkfK"
   },
   "source": [
    "### Задание 8\n",
    "Для женщин, чей доход или стаж строго выше 75 перцентиля аналогичных показателей для мужчин, определите наиболее популярную профессию (occupation_type). Null значения в occupation_type не учитывать, как и в пункте 4.\n",
    "\n",
    "В качесте ответа приведите название этой профессии."
   ]
  },
  {
   "cell_type": "code",
   "execution_count": 182,
   "metadata": {
    "colab": {},
    "colab_type": "code",
    "id": "oDeTSCM9LhGO"
   },
   "outputs": [],
   "source": [
    "# найдем 75 перцентиль по доходам и стажу у мужчин.\n",
    "# для этого отберем необходимые колонки из основного датасета\n",
    "data_for_male_percentile = app[['code_gender','amt_income_total','days_employed']]\n",
    "# отберем только male.\n",
    "data_for_male_percentile = male_percentile[male_percentile['code_gender']=='M']\n",
    "# посчитаем 75 персентили\n",
    "days_employed_male_75percentile = np.percentile(male_percentile['days_employed'], 75)\n",
    "amt_income_total_male_75percentile = np.percentile(male_percentile['amt_income_total'], 75)"
   ]
  },
  {
   "cell_type": "code",
   "execution_count": 190,
   "metadata": {},
   "outputs": [
    {
     "data": {
      "text/html": [
       "<div>\n",
       "<style scoped>\n",
       "    .dataframe tbody tr th:only-of-type {\n",
       "        vertical-align: middle;\n",
       "    }\n",
       "\n",
       "    .dataframe tbody tr th {\n",
       "        vertical-align: top;\n",
       "    }\n",
       "\n",
       "    .dataframe thead th {\n",
       "        text-align: right;\n",
       "    }\n",
       "</style>\n",
       "<table border=\"1\" class=\"dataframe\">\n",
       "  <thead>\n",
       "    <tr style=\"text-align: right;\">\n",
       "      <th></th>\n",
       "      <th>code_gender</th>\n",
       "      <th>amt_income_total</th>\n",
       "      <th>days_employed</th>\n",
       "    </tr>\n",
       "    <tr>\n",
       "      <th>occupation_type</th>\n",
       "      <th></th>\n",
       "      <th></th>\n",
       "      <th></th>\n",
       "    </tr>\n",
       "  </thead>\n",
       "  <tbody>\n",
       "    <tr>\n",
       "      <td>Managers</td>\n",
       "      <td>885</td>\n",
       "      <td>885</td>\n",
       "      <td>885</td>\n",
       "    </tr>\n",
       "  </tbody>\n",
       "</table>\n",
       "</div>"
      ],
      "text/plain": [
       "                 code_gender  amt_income_total  days_employed\n",
       "occupation_type                                              \n",
       "Managers                 885               885            885"
      ]
     },
     "execution_count": 190,
     "metadata": {},
     "output_type": "execute_result"
    }
   ],
   "source": [
    "# для этого отберем необходимые колонки из основного датасета\n",
    "data_for_female_top_occupation = app[['code_gender','amt_income_total','days_employed', 'occupation_type']]\n",
    "# отберем только male.\n",
    "data_for_female_top_occupation = data_for_female_top_occupation[data_for_female_top_occupation['code_gender']=='F']\n",
    "# создадим необходимы условия(доход или стаж строго выше 75 перцентиля аналогичных показателей для мужчин)\n",
    "condition_2 = f'amt_income_total > {amt_income_total_male_75percentile} and days_employed > {days_employed_male_75percentile}'\n",
    "# применим условия для отобранного датасета\n",
    "data_for_female_top_occupation = data_for_female_top_occupation.query(condition_2)\n",
    "# сгруппируем датасет по occupation_type и посчитаем количество строк(то есть количество людей в каждой группе.)\n",
    "data_for_female_top_occupation = data_for_female_top_occupation.groupby('occupation_type').count()\n",
    "# осортируем значения по убыванию и выведем самый верхний результат. \n",
    "data_for_female_top_occupation.sort_values(by='code_gender', ascending=False).head(1)"
   ]
  },
  {
   "cell_type": "markdown",
   "metadata": {},
   "source": [
    "Для женщин, чей доход или стаж строго выше 75 перцентиля аналогичных показателей для мужчин, наиболее популярная профессия это Managers.\n"
   ]
  },
  {
   "cell_type": "markdown",
   "metadata": {
    "colab_type": "text",
    "id": "t5S5miXPKkfP"
   },
   "source": [
    "### Задание 9\n",
    "Оцените наличие связи между размером дохода и модулем возраста при помощи коэфициента корреляции.\n",
    "В качестве ответа приведите значение в процентах, округленное до 5 знаков после запятой."
   ]
  },
  {
   "cell_type": "code",
   "execution_count": 202,
   "metadata": {},
   "outputs": [
    {
     "name": "stderr",
     "output_type": "stream",
     "text": [
      "D:\\programms\\conda\\lib\\site-packages\\ipykernel_launcher.py:2: SettingWithCopyWarning: \n",
      "A value is trying to be set on a copy of a slice from a DataFrame.\n",
      "Try using .loc[row_indexer,col_indexer] = value instead\n",
      "\n",
      "See the caveats in the documentation: http://pandas.pydata.org/pandas-docs/stable/user_guide/indexing.html#returning-a-view-versus-a-copy\n",
      "  \n"
     ]
    },
    {
     "data": {
      "text/html": [
       "<div>\n",
       "<style scoped>\n",
       "    .dataframe tbody tr th:only-of-type {\n",
       "        vertical-align: middle;\n",
       "    }\n",
       "\n",
       "    .dataframe tbody tr th {\n",
       "        vertical-align: top;\n",
       "    }\n",
       "\n",
       "    .dataframe thead th {\n",
       "        text-align: right;\n",
       "    }\n",
       "</style>\n",
       "<table border=\"1\" class=\"dataframe\">\n",
       "  <thead>\n",
       "    <tr style=\"text-align: right;\">\n",
       "      <th></th>\n",
       "      <th>amt_income_total</th>\n",
       "      <th>days_birth</th>\n",
       "    </tr>\n",
       "  </thead>\n",
       "  <tbody>\n",
       "    <tr>\n",
       "      <td>amt_income_total</td>\n",
       "      <td>100.00000</td>\n",
       "      <td>-5.37746</td>\n",
       "    </tr>\n",
       "    <tr>\n",
       "      <td>days_birth</td>\n",
       "      <td>-5.37746</td>\n",
       "      <td>100.00000</td>\n",
       "    </tr>\n",
       "  </tbody>\n",
       "</table>\n",
       "</div>"
      ],
      "text/plain": [
       "                  amt_income_total  days_birth\n",
       "amt_income_total         100.00000    -5.37746\n",
       "days_birth                -5.37746   100.00000"
      ]
     },
     "execution_count": 202,
     "metadata": {},
     "output_type": "execute_result"
    }
   ],
   "source": [
    "# отберем необходимые значения для оценки корреляции между размером дохода(amt_income_total) и модулем возраста(days_birth)\n",
    "data_for_corr = app[['amt_income_total','days_birth']]\n",
    "# обернем значения возраста в модуль. \n",
    "data_for_corr['days_birth'] = data_for_corr['days_birth'].apply(lambda x: abs(x))\n",
    "# посчитаем значения коэффициента корреляции Пирсона и переведем в проценты с округлением до 5-го знака. \n",
    "data_for_corr.corr().apply(lambda x: round(x*100,5))"
   ]
  },
  {
   "cell_type": "markdown",
   "metadata": {
    "colab": {},
    "colab_type": "code",
    "id": "hx-85nT0LijM"
   },
   "source": [
    "Коэффициент Пирсона равен -0,0537746 (5,38%) из чего можно сделать вывод, что связь между доходом и модулем возраста очень, очень слабая.  \n"
   ]
  },
  {
   "cell_type": "markdown",
   "metadata": {
    "colab_type": "text",
    "id": "lwdYtmTJKkfV"
   },
   "source": [
    "### Задание 10\n",
    "По результатам задания 9 при помощи коээфициента корреляции оцените силу связи между доходом и модулем возраста:\n",
    "\n",
    "    1) сильная положительная связь\n",
    "    2) слабая положительная связь\n",
    "    3) нелинейная связь\n",
    "    4) умеренная отрицательная связь\n",
    "    5) все ответы неверны"
   ]
  },
  {
   "cell_type": "code",
   "execution_count": 205,
   "metadata": {
    "colab": {},
    "colab_type": "code",
    "id": "H97DPXPRLlVl"
   },
   "outputs": [],
   "source": [
    "# Выберите верный ответ:  Все ответы неверны.  Связь между доходом и модулем возраста очень, очень слабая.  "
   ]
  },
  {
   "cell_type": "markdown",
   "metadata": {
    "colab_type": "text",
    "id": "kuSN73AGKkfZ"
   },
   "source": [
    "### Задание 11\n",
    "Какие типы занятости (name_income_type) встречаются среди клиентов с просрочкой от 30-59 дней? Ответ приведите в виде словаря с сортировкой по числу id:\n",
    "{name_income_type:число id}"
   ]
  },
  {
   "cell_type": "code",
   "execution_count": 271,
   "metadata": {
    "colab": {},
    "colab_type": "code",
    "id": "KoDMTmSPLrsT",
    "scrolled": true
   },
   "outputs": [
    {
     "data": {
      "text/plain": [
       "{'Working': 2104,\n",
       " 'Commercial associate': 1057,\n",
       " 'Pensioner': 607,\n",
       " 'State servant': 380,\n",
       " 'Student': 1}"
      ]
     },
     "execution_count": 271,
     "metadata": {},
     "output_type": "execute_result"
    }
   ],
   "source": [
    "# отберем необходимые значения для определения типа занятости у клиентов с просрочкой 30-59 дней. \n",
    "data_for_delay_1 = app[['id','name_income_type']]\n",
    "# отберем id со статусом один. То есть хоть раз у кого то была просрочка в 30-59 дней. И уберем повторения в id.\n",
    "credit_delay_1 = credit.query('status==\"1\"').drop_duplicates('id')\n",
    "# объеденим таблицу кредитной истории и тип занятости людей. \n",
    "name_type_for_delay_1 = credit_delay_1.merge(data_for_delay_1, how ='inner')\n",
    "# сгруппируем значения по типу зянятости и посчитаем количество в группах.\n",
    "dict(name_type_for_delay_1.groupby('name_income_type')['id'].count().sort_values(ascending=False))"
   ]
  },
  {
   "cell_type": "code",
   "execution_count": null,
   "metadata": {},
   "outputs": [],
   "source": []
  },
  {
   "cell_type": "markdown",
   "metadata": {
    "colab_type": "text",
    "id": "pKdEttiwKkfe"
   },
   "source": [
    "### Задание 12\n",
    "Выберите верные утверждения для клиентов с просрочкой более 150 дней:\n",
    "\n",
    "    1) среди этих клиентов больше всего людей имеет образование уровня Lower secondary\n",
    "    2) среди этих клиентов 61% - мужчины\n",
    "    3) не все такие клиенты присутствуют в датасете с заявками\n",
    "    4) все три утверждения выше неверны"
   ]
  },
  {
   "cell_type": "code",
   "execution_count": 274,
   "metadata": {
    "colab": {},
    "colab_type": "code",
    "id": "utIiCF76Kkff"
   },
   "outputs": [],
   "source": [
    "# отберем необходимые значения для определения типа занятости у клиентов с просрочкой более 150 дней. \n",
    "data_for_delay_5 = app[['id','name_income_type','code_gender','name_education_type',]]\n",
    "# отберем id со статусом 5. То есть хоть раз у кого то была просрочка более 150 дней. И уберем повторения в id.\n",
    "credit_delay_5 = credit.query('status==\"5\"').drop_duplicates('id')\n",
    "# объеденим таблицу кредитной истории и тип занятости людей. \n",
    "client_with_delay_5 = credit_delay_5.merge(data_for_delay_5, how ='inner')"
   ]
  },
  {
   "cell_type": "code",
   "execution_count": 287,
   "metadata": {
    "colab": {},
    "colab_type": "code",
    "id": "DhIc9RPhLx6D"
   },
   "outputs": [
    {
     "data": {
      "text/plain": [
       "name_education_type\n",
       "Higher education                  57\n",
       "Incomplete higher                  7\n",
       "Lower secondary                    6\n",
       "Secondary / secondary special    110\n",
       "Name: id, dtype: int64"
      ]
     },
     "execution_count": 287,
     "metadata": {},
     "output_type": "execute_result"
    }
   ],
   "source": [
    "# посчитаем количество клиентов с разным образованием. \n",
    "client_with_delay_5.groupby('name_education_type')['id'].count()\n"
   ]
  },
  {
   "cell_type": "markdown",
   "metadata": {},
   "source": [
    "Очевидно, что больше всего клиентов с просрочкой более 150 дней с образованием Secondary / secondary special."
   ]
  },
  {
   "cell_type": "code",
   "execution_count": 288,
   "metadata": {},
   "outputs": [
    {
     "data": {
      "text/plain": [
       "code_gender\n",
       "F    61.666667\n",
       "M    38.333333\n",
       "Name: id, dtype: float64"
      ]
     },
     "execution_count": 288,
     "metadata": {},
     "output_type": "execute_result"
    }
   ],
   "source": [
    "# посчитаем количество мужчин с просрочкой более 150 дней. \n",
    "client_with_delay_5.groupby('code_gender')['id'].count().apply(lambda x: x/len(client_with_delay_5)*100)"
   ]
  },
  {
   "cell_type": "markdown",
   "metadata": {},
   "source": [
    "Среди этих клиентов 61% - Женщины"
   ]
  },
  {
   "cell_type": "code",
   "execution_count": 292,
   "metadata": {},
   "outputs": [
    {
     "name": "stdout",
     "output_type": "stream",
     "text": [
      "всего таких клиентов с просрочкой более 150 дней равно: 195\n"
     ]
    }
   ],
   "source": [
    "print(f'всего таких клиентов с просрочкой более 150 дней равно: {len(credit_delay_5)}')"
   ]
  },
  {
   "cell_type": "code",
   "execution_count": 293,
   "metadata": {},
   "outputs": [
    {
     "name": "stdout",
     "output_type": "stream",
     "text": [
      "количество строк после обьединения: 180\n"
     ]
    }
   ],
   "source": [
    "print(f'количество строк после обьединения: {len(client_with_delay_5)}')"
   ]
  },
  {
   "cell_type": "markdown",
   "metadata": {},
   "source": [
    "Значит в исходном датасете application не хватает 15 человек-id.   "
   ]
  },
  {
   "cell_type": "markdown",
   "metadata": {},
   "source": [
    "Ответ номер 3) не все такие клиенты присутствуют в датасете с заявками"
   ]
  },
  {
   "cell_type": "code",
   "execution_count": null,
   "metadata": {},
   "outputs": [],
   "source": []
  }
 ],
 "metadata": {
  "colab": {
   "collapsed_sections": [],
   "name": "qiwi_student_case.ipynb",
   "provenance": []
  },
  "kernelspec": {
   "display_name": "Python 3",
   "language": "python",
   "name": "python3"
  },
  "language_info": {
   "codemirror_mode": {
    "name": "ipython",
    "version": 3
   },
   "file_extension": ".py",
   "mimetype": "text/x-python",
   "name": "python",
   "nbconvert_exporter": "python",
   "pygments_lexer": "ipython3",
   "version": "3.7.4"
  }
 },
 "nbformat": 4,
 "nbformat_minor": 1
}
